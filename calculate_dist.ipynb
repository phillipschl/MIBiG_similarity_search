{
 "cells": [
  {
   "cell_type": "markdown",
   "id": "72b58598-1b7e-4a6a-ba7d-41a82afa43c6",
   "metadata": {},
   "source": [
    "Load dependecies"
   ]
  },
  {
   "cell_type": "code",
   "execution_count": null,
   "id": "4caabd62-744a-49ed-916f-461c75b42d63",
   "metadata": {
    "jupyter": {
     "source_hidden": true
    }
   },
   "outputs": [],
   "source": [
    "from rdkit import Chem\n",
    "from rdkit.Chem import Draw\n",
    "import tmap as tm\n",
    "from pandarallel import pandarallel\n",
    "import numpy as np\n",
    "pandarallel.initialize(nb_workers=2,progress_bar=False)\n",
    "import pandas as pd\n",
    "from map4.map4 import MAP4Calculator\n",
    "from scipy.spatial import distance\n",
    "\n",
    "map4_instance = MAP4Calculator(dimensions=1024)\n",
    "def calc_map4(smiles):\n",
    "    mol = Chem.MolFromSmiles(smiles)\n",
    "    smiles = Chem.MolToSmiles(mol, isomericSmiles=False)\n",
    "    mol = Chem.MolFromSmiles(smiles)\n",
    "    map4 = map4_instance.calculate(mol)\n",
    "    return np.array(map4)\n",
    "\n",
    "def get_distance(a, b):\n",
    "    \"\"\"Estimates the Jaccard distance of two binary arrays based on their hashes,\n",
    "    which measures dissimilarity between sample sets, is complementary to the \n",
    "    Jaccard coefficient and is obtained by subtracting the Jaccard coefficient from 1.\n",
    "\n",
    "    Arguments:\n",
    "      a {numpy.ndarray} -- An array containing hash values.\n",
    "      b {numpy.ndarray} -- An array containing hash values.\n",
    "\n",
    "    Returns:\n",
    "      float -- The estimated Jaccard distance.\n",
    "    \"\"\"\n",
    "\n",
    "    # The Jaccard distance of Minhashed values is estimated by\n",
    "    return 1.0 - float(np.count_nonzero(a == b)) / float(len(a))"
   ]
  },
  {
   "cell_type": "markdown",
   "id": "48092645-692a-4c19-9f55-19bb7843231b",
   "metadata": {},
   "source": [
    "Load Database"
   ]
  },
  {
   "cell_type": "code",
   "execution_count": null,
   "id": "2a40c47a-477c-4052-8e9a-ea99c6ff0f59",
   "metadata": {
    "jupyter": {
     "source_hidden": true
    }
   },
   "outputs": [],
   "source": [
    "mibig = 'mibig_3.1_filtered_prop.pkl'\n",
    "with open(mibig, 'rb') as file:\n",
    "    df = pd.read_pickle(file)\n",
    "\n",
    "if not isinstance(df, pd.DataFrame):\n",
    "    raise ValueError(\"The loaded pickle file does not contain a DataFrame\")\n",
    "    \n",
    "if 'MAP4' not in df.columns:\n",
    "    raise ValueError(\"The DataFrame does not contain a MAP4 column\")"
   ]
  },
  {
   "cell_type": "markdown",
   "id": "4bc17945-29a4-48db-8f33-c1921079799e",
   "metadata": {},
   "source": [
    "Define input"
   ]
  },
  {
   "cell_type": "code",
   "execution_count": null,
   "id": "8b9b21c7-2cd4-4b39-81e2-588fa8d096f7",
   "metadata": {},
   "outputs": [],
   "source": [
    "# Input here a SMILES string of your query molecule\n",
    "query_smiles = 'C[C@H]1[C@@H]([C@H]([C@H]([C@@H](O1)OP(=O)(N[C@@H](CC(C)C)C(=O)N[C@@H](CC2=CNC3=CC=CC=C32)C(=O)O)O)O)O)O'\n",
    "# Write here a threshold from 0 to 1, with 1 as max distance to your input molecule (I suggest 0.85 for a first try)\n",
    "threshold = 0.85\n",
    "\n",
    "# Calculate fingerprint\n",
    "fingerprint = calc_map4(query_smiles)\n",
    "\n",
    "# Print input molecule\n",
    "mol = Chem.MolFromSmiles(query_smiles)\n",
    "img = Draw.MolToImage(mol, legend=\"Input molecule\")\n",
    "display(img)"
   ]
  },
  {
   "cell_type": "markdown",
   "id": "20e4b3a4-be2e-4dc4-9c1b-9e44c22f2726",
   "metadata": {},
   "source": [
    "Calculate distances"
   ]
  },
  {
   "cell_type": "code",
   "execution_count": null,
   "id": "1da64866-8ffa-4962-9ef2-dbf1661cc1a7",
   "metadata": {
    "jupyter": {
     "source_hidden": true
    }
   },
   "outputs": [],
   "source": [
    "rows_with_distance = []\n",
    "for index, map4_ in enumerate(df['MAP4']):\n",
    "    dist = distance.jaccard(fingerprint, map4_)\n",
    "    if dist < threshold:\n",
    "        row_dict = df.iloc[index].to_dict()\n",
    "        row_dict['distance'] = dist\n",
    "        rows_with_distance.append(row_dict)\n",
    "\n",
    "result_df = pd.DataFrame(rows_with_distance)\n",
    "\n",
    "# Check if the 'Distance' column exists before filtering\n",
    "if 'distance' in result_df.columns:\n",
    "  filtered_df = result_df[result_df['distance'].notna()]\n",
    "  filtered_df.head()\n",
    "else:\n",
    "  print(\"No similar molecules found within the specified threshold.\")\n",
    "  filtered_df = pd.DataFrame()  # Create an empty DataFrame if no similar molecules are found\n",
    "\n",
    "# Assuming rows_with_distance is already defined and contains your data\n",
    "result_df = pd.DataFrame(rows_with_distance)\n",
    "\n",
    "# Filter out rows where 'Distance' is not NaN\n",
    "filtered_df = result_df[result_df['distance'].notna()]\n",
    "\n",
    "# Sort the filtered DataFrame by the 'Distance' column\n",
    "sorted_df = filtered_df.sort_values(by='distance')\n",
    "\n",
    "# Optionally, you can reset the index if desired\n",
    "sorted_df.reset_index(drop=True, inplace=True)\n",
    "\n",
    "sorted_df"
   ]
  },
  {
   "cell_type": "markdown",
   "id": "fa96a1fe-40ec-464a-a1f0-f267ec251363",
   "metadata": {},
   "source": [
    "Save the output as .csv"
   ]
  },
  {
   "cell_type": "code",
   "execution_count": null,
   "id": "a48af618-7084-43ce-a53c-6f2f3cfb14aa",
   "metadata": {},
   "outputs": [],
   "source": [
    "# Input here a filename for your output (without .csv)\n",
    "out_name = \"example\"\n",
    "sorted_df.to_csv(out_name+'.csv', index=False)"
   ]
  }
 ],
 "metadata": {
  "kernelspec": {
   "display_name": "Python 3 (ipykernel)",
   "language": "python",
   "name": "python3"
  },
  "language_info": {
   "codemirror_mode": {
    "name": "ipython",
    "version": 3
   },
   "file_extension": ".py",
   "mimetype": "text/x-python",
   "name": "python",
   "nbconvert_exporter": "python",
   "pygments_lexer": "ipython3",
   "version": "3.9.20"
  }
 },
 "nbformat": 4,
 "nbformat_minor": 5
}
