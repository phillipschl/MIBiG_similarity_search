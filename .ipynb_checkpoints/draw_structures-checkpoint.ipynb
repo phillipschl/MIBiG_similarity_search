{
 "cells": [
  {
   "cell_type": "markdown",
   "id": "62487ae6-634c-485f-8972-35c0808b9739",
   "metadata": {},
   "source": [
    "Load dependecies and functions"
   ]
  },
  {
   "cell_type": "code",
   "execution_count": null,
   "id": "29ab727c-d004-4b41-8f94-92fd3f6c52b3",
   "metadata": {
    "jupyter": {
     "source_hidden": true
    }
   },
   "outputs": [],
   "source": [
    "import pandas as pd\n",
    "from rdkit import Chem\n",
    "from rdkit.Chem import Draw\n",
    "import matplotlib.pyplot as plt\n",
    "import textwrap\n",
    "import numpy as np\n",
    "\n",
    "\n",
    "def draw_molecule_grid(df, smiles_col, name_col, distance_col, n_cols=5, max_name_width=25, save_path=None):\n",
    "    # Sort the dataframe by 'Distance' column\n",
    "    df = df.sort_values(by=distance_col).reset_index(drop=True)\n",
    "    \n",
    "    # Number of rows and columns\n",
    "    n_rows = len(df) // n_cols + int(len(df) % n_cols > 0)\n",
    "    \n",
    "    # Set up figure dimensions and quality\n",
    "    fig, axes = plt.subplots(n_rows, n_cols, figsize=(n_cols*3, n_rows*3), dpi=300)\n",
    "    axes = axes.flatten() if isinstance(axes, np.ndarray) else [axes]  # Flatten axes for easy iteration\n",
    "\n",
    "    # Loop through each molecule\n",
    "    for i, (index, row) in enumerate(df.iterrows()):\n",
    "        mol = Chem.MolFromSmiles(row[smiles_col])\n",
    "        \n",
    "        if mol is not None:\n",
    "            # Draw molecule as image\n",
    "            img = Draw.MolToImage(mol, size=(300, 300), kekulize=True)\n",
    "            ax = axes[i]\n",
    "            ax.imshow(img)\n",
    "            ax.axis('off')\n",
    "            \n",
    "            # Prepare and wrap name and distance information for the title\n",
    "            name = str(row[name_col]) if pd.notna(row[name_col]) else \"Unnamed Molecule\"\n",
    "            wrapped_name = textwrap.fill(name, width=max_name_width)\n",
    "            subtitle = f\"{wrapped_name}\\nDistance: {row[distance_col]:.2f}\"\n",
    "            ax.set_title(subtitle, fontsize=8)\n",
    "    \n",
    "    # Hide any empty subplots if there are more axes than molecules\n",
    "    for j in range(i + 1, len(axes)):\n",
    "        axes[j].axis('off')\n",
    "    \n",
    "    # Adjust layout to minimize whitespace between subplots\n",
    "    plt.subplots_adjust(left=0.05, right=0.95, top=0.95, bottom=0.05, wspace=0.1, hspace=0.4)\n",
    "    \n",
    "    # Save the figure with tight bounding box and no padding\n",
    "    if save_path:\n",
    "        plt.savefig(save_path, format=\"png\", dpi=600, bbox_inches='tight', pad_inches=0.1)\n",
    "\n",
    "    # Optionally show the plot if not saving directly\n",
    "    plt.show()\n"
   ]
  },
  {
   "cell_type": "markdown",
   "id": "98c33fcf-6ddd-476d-a12d-a4da7dd2a336",
   "metadata": {},
   "source": [
    "Define input"
   ]
  },
  {
   "cell_type": "code",
   "execution_count": null,
   "id": "fa03b827-e311-44fa-b73e-34e27e2e2b64",
   "metadata": {},
   "outputs": [],
   "source": [
    "# Input here a the name of your output file generated in from calculate_dist (w/o .csv)\n",
    "table = 'example/dist_example'\n",
    "# Input here a filename for your output png (without .png)\n",
    "out_name = 'example/dist_example'\n",
    "df = pd.read_csv(table + '.csv')"
   ]
  },
  {
   "cell_type": "markdown",
   "id": "f03c6103-a255-46e0-a701-0324533f8d64",
   "metadata": {},
   "source": [
    "Draw molecules"
   ]
  },
  {
   "cell_type": "code",
   "execution_count": null,
   "id": "4d87ef70-0000-47ec-94b6-3f1014911971",
   "metadata": {},
   "outputs": [],
   "source": [
    "# Save the plot directly in the function\n",
    "draw_molecule_grid(df, smiles_col='smiles', name_col='mibig_accession', distance_col='distance', save_path=out_name+'.png')"
   ]
  }
 ],
 "metadata": {
  "kernelspec": {
   "display_name": "Python 3 (ipykernel)",
   "language": "python",
   "name": "python3"
  },
  "language_info": {
   "codemirror_mode": {
    "name": "ipython",
    "version": 3
   },
   "file_extension": ".py",
   "mimetype": "text/x-python",
   "name": "python",
   "nbconvert_exporter": "python",
   "pygments_lexer": "ipython3",
   "version": "3.9.20"
  }
 },
 "nbformat": 4,
 "nbformat_minor": 5
}
