{
 "cells": [
  {
   "cell_type": "markdown",
   "id": "6658c14f-74be-4de1-bde5-7c6322285638",
   "metadata": {},
   "source": [
    "Load Dependecies"
   ]
  },
  {
   "cell_type": "code",
   "execution_count": null,
   "id": "cd94a03a-b56d-4230-a543-84387b4092eb",
   "metadata": {
    "jupyter": {
     "source_hidden": true
    }
   },
   "outputs": [],
   "source": [
    "import subprocess\n",
    "import pandas as pd\n",
    "db = 'db/mibig_prot_seqs_3.1_db'\n",
    "\n",
    "def run_blast(query_file, db, output_file, blast_type=\"blastp\", evalue=1e-5, max_target_seqs=10, outfmt=\"6\"):\n",
    "    blast_command = [\n",
    "        blast_type,\n",
    "        \"-query\", query_file,\n",
    "        \"-db\", db,\n",
    "        \"-out\", output_file,\n",
    "        \"-outfmt\", outfmt,\n",
    "        \"-evalue\", str(evalue),\n",
    "        \"-max_target_seqs\", str(max_target_seqs)\n",
    "    ]\n",
    "    \n",
    "    result = subprocess.run(blast_command, capture_output=True, text=True)\n",
    "    if result.returncode == 0:\n",
    "        print(\"BLAST search completed successfully.\")\n",
    "    else:\n",
    "        print(\"Error:\", result.stderr)"
   ]
  },
  {
   "cell_type": "markdown",
   "id": "5ff2de2c-1589-4aba-b1ee-97240ba11533",
   "metadata": {},
   "source": [
    "Define input and parameters, then run the cell"
   ]
  },
  {
   "cell_type": "code",
   "execution_count": null,
   "id": "6b00fb01-2005-4197-89da-67b1172bc66e",
   "metadata": {},
   "outputs": [],
   "source": [
    "# Just drag and drop your input fasta file to the file browser on the left and define the name below (w/o file extension) \n",
    "query_file='example/blast_example'\n",
    "# Input here a filename for your output (without .csv)\n",
    "output_file='example/blast_example_out'\n",
    "# e-value in BLAST represents the number of hits (alignments) that would be expected to occur by chance in a database of a particular size, \n",
    "# with lower e-values indicating more statistically significant matches\n",
    "evalue=1e-5\n",
    "# max_target_seqs limits the number of aligned sequences returned, with higher values returning more results (up to the specified maximum)\n",
    "max_target_seqs=10\n",
    "\n",
    "# Run the function\n",
    "run_blast(query_file+'.fasta', db, output_file+'.csv', blast_type=\"blastp\", evalue=evalue, max_target_seqs=max_target_seqs)\n",
    "run_blast(query_file+'.fasta', db, output_file+'.txt', blast_type=\"blastp\", evalue=evalue, max_target_seqs=max_target_seqs, outfmt=\"0\")"
   ]
  },
  {
   "cell_type": "markdown",
   "id": "9d602a57-3281-43aa-b899-1c2fd7d0e06a",
   "metadata": {},
   "source": [
    "View top X results"
   ]
  },
  {
   "cell_type": "code",
   "execution_count": null,
   "id": "e7bb6252-30a6-4b93-8469-9f31816b3716",
   "metadata": {},
   "outputs": [],
   "source": [
    "# Define how many top hits you want to get printed in the console\n",
    "X=10\n",
    "\n",
    "# Load the output file into a DataFrame\n",
    "results_df = pd.read_csv(output_file+'.csv', sep=\"\\t\", header=None)\n",
    "# Define column names for easy reference\n",
    "results_df.columns = [\"query_id\", \"subject_id\", \"percent_identity\", \"alignment_length\", \"mismatches\", \"gap_opens\", \"q_start\", \"q_end\", \"s_start\", \"s_end\", \"e_value\", \"bit_score\"]\n",
    "# Sort the DataFrame by 'percent_identity' in descending order\n",
    "results_df_sorted = results_df.sort_values(by='percent_identity', ascending=False)\n",
    "# Save the sorted results back to a CSV file\n",
    "results_df_sorted.to_csv(output_file+'_sorted.csv', index=False)\n",
    "# Display the sorted results\n",
    "results_df_sorted.head(X)"
   ]
  }
 ],
 "metadata": {
  "kernelspec": {
   "display_name": "Python 3 (ipykernel)",
   "language": "python",
   "name": "python3"
  },
  "language_info": {
   "codemirror_mode": {
    "name": "ipython",
    "version": 3
   },
   "file_extension": ".py",
   "mimetype": "text/x-python",
   "name": "python",
   "nbconvert_exporter": "python",
   "pygments_lexer": "ipython3",
   "version": "3.9.20"
  }
 },
 "nbformat": 4,
 "nbformat_minor": 5
}
